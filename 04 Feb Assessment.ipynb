{
 "cells": [
  {
   "cell_type": "markdown",
   "id": "a242fd0a-8ef7-4722-b3aa-962e60c04bb3",
   "metadata": {},
   "source": [
    "## Data Science Master's \n",
    "#### 04 Feb Functions Assignment"
   ]
  },
  {
   "cell_type": "markdown",
   "id": "0350541d-4fcc-45d7-b80e-b0c825c3b40c",
   "metadata": {},
   "source": [
    "### 1. Create a python program to sort the given list of tuples based on integer value using a lambda function.\n",
    "\n",
    "[('Sachin Tendulkar', 34357), ('Ricky Ponting', 27483), ('Jack Kallis', 25534), ('Virat Kohli', 24936)]\n",
    "Ans:\n"
   ]
  },
  {
   "cell_type": "code",
   "execution_count": 8,
   "id": "cb84a4ef-5fb2-49f3-8322-77095ea0875b",
   "metadata": {},
   "outputs": [
    {
     "name": "stdout",
     "output_type": "stream",
     "text": [
      "Orignal List \n",
      "\n",
      "[('Sachin Tendulkar', 34357), ('Ricky Ponting', 27483), ('Jack Kallis', 25534), ('Virat Kohli', 24936)]\n",
      "\n",
      " \n",
      "Sorted List \n",
      "\n",
      "[('Virat Kohli', 24936), ('Jack Kallis', 25534), ('Ricky Ponting', 27483), ('Sachin Tendulkar', 34357)]\n",
      "\n",
      " \n"
     ]
    }
   ],
   "source": [
    "A = [('Sachin Tendulkar', 34357), ('Ricky Ponting', 27483), ('Jack Kallis', 25534), ('Virat Kohli', 24936)] \n",
    "print(\"Orignal List \\n\")\n",
    "print(A)\n",
    "print(\"\\n \")\n",
    "A.sort(key = lambda x : x[1])\n",
    "print(\"Sorted List \\n\")\n",
    "print(A)\n",
    "print(\"\\n \")"
   ]
  },
  {
   "cell_type": "markdown",
   "id": "15db12e5-59a2-4e63-a78b-8d6fa785e37e",
   "metadata": {},
   "source": [
    "### 2. Write a Python Program to find the squares of all the numbers in the given list of integers using lambda and map functions.\n",
    "[1, 2, 3, 4, 5, 6, 7, 8, 9, 10]\n",
    "\n",
    "Ans:\n"
   ]
  },
  {
   "cell_type": "code",
   "execution_count": 11,
   "id": "d90bad4f-a9b0-4adf-9efa-a84013917b66",
   "metadata": {},
   "outputs": [
    {
     "name": "stdout",
     "output_type": "stream",
     "text": [
      "[1, 4, 9, 16, 25, 36, 49, 64, 81, 100]\n"
     ]
    }
   ],
   "source": [
    "l1=[1,2,3,4,5,6,7,8,9,10]\n",
    "\n",
    "a = map(lambda a : a**2, l1)\n",
    "\n",
    "print(list(a))"
   ]
  },
  {
   "cell_type": "markdown",
   "id": "48e31b8a-53ff-4b1c-9f1b-d59a9f39bd6d",
   "metadata": {},
   "source": [
    "### 3. Write a python program to convert the given list of integers into a tuple of strings. Use map and lambda functions\n",
    "\n",
    "Given String: [1, 2, 3, 4, 5, 6, 7, 8, 9, 10]\n",
    "\n",
    "Expected output: ('1', '2', '3', '4', '5', '6', '7', '8', '9', '10')\n",
    "\n",
    "Ans:"
   ]
  },
  {
   "cell_type": "code",
   "execution_count": 18,
   "id": "e1f18c86-4469-4707-8fde-878804d255d6",
   "metadata": {},
   "outputs": [
    {
     "name": "stdout",
     "output_type": "stream",
     "text": [
      "('1', '2', '3', '4', '5', '6', '7', '8', '9', '10')\n"
     ]
    }
   ],
   "source": [
    "gs = [1, 2, 3, 4, 5, 6, 7, 8, 9, 10]\n",
    "\n",
    "a = map(str, gs)\n",
    "\n",
    "print(tuple(a))"
   ]
  },
  {
   "cell_type": "markdown",
   "id": "8ae28846-e6ba-4271-8937-b91418dba6da",
   "metadata": {},
   "source": [
    "### 4. Write a python program using reduce function to compute the product of a list containing numbers from 1 to 25.\n",
    "\n",
    "Ans:"
   ]
  },
  {
   "cell_type": "code",
   "execution_count": 20,
   "id": "8def7cd7-79b9-4d12-a550-9c86679adbbf",
   "metadata": {},
   "outputs": [
    {
     "name": "stdout",
     "output_type": "stream",
     "text": [
      "[1, 2, 3, 4, 5, 6, 7, 8, 9, 10, 11, 12, 13, 14, 15, 16, 17, 18, 19, 20, 21, 22, 23, 24, 25]\n"
     ]
    },
    {
     "data": {
      "text/plain": [
       "15511210043330985984000000"
      ]
     },
     "execution_count": 20,
     "metadata": {},
     "output_type": "execute_result"
    }
   ],
   "source": [
    "from functools import reduce\n",
    "X = [1,2,3,4,5,6,7,8,9,10,11,12,13,14,15,16,17,18,19,20,21,22,23,24,25]\n",
    "print(X)\n",
    "reduce(lambda x,y: x*y,X)"
   ]
  },
  {
   "cell_type": "markdown",
   "id": "5720a528-630a-4525-a991-0aacade8123a",
   "metadata": {},
   "source": [
    "### 5. Write a python program to filter the numbers in a given list that are divisible by 2 and 3 using the filter function.\n",
    "\n",
    "[2, 3, 6, 9, 27, 60, 90, 120, 55, 46]\n",
    "\n",
    "Ans:\n",
    "    "
   ]
  },
  {
   "cell_type": "code",
   "execution_count": 22,
   "id": "6b7a1adf-519c-42d8-b398-6ac0ca50aa07",
   "metadata": {},
   "outputs": [
    {
     "data": {
      "text/plain": [
       "[6, 60, 90, 120]"
      ]
     },
     "execution_count": 22,
     "metadata": {},
     "output_type": "execute_result"
    }
   ],
   "source": [
    "Y = [2, 3, 6, 9, 27, 60, 90, 120, 55, 46] \n",
    "\n",
    "list(filter(lambda a : a%2 == 0 and a%3 == 0 ,Y))"
   ]
  },
  {
   "cell_type": "markdown",
   "id": "ef10712b-680b-4c7d-84d0-a371322630ef",
   "metadata": {},
   "source": [
    "### 6. Write a python program to find palindromes in the given list of strings using lambda and filter function.\n",
    "\n",
    "['python', 'php', 'aba', 'radar', 'level']\n",
    "\n",
    "Ans:"
   ]
  },
  {
   "cell_type": "code",
   "execution_count": 25,
   "id": "6b3da713-f5f5-4feb-b0e0-2c142f5623b5",
   "metadata": {},
   "outputs": [
    {
     "name": "stdout",
     "output_type": "stream",
     "text": [
      "Given list\n",
      "['python', 'php', 'aba', 'radar', 'level']\n",
      "\n",
      "\n",
      "List having palindromes\n",
      "['php', 'aba', 'radar', 'level']\n"
     ]
    }
   ],
   "source": [
    "a=['python', 'php', 'aba', 'radar', 'level'] \n",
    "print(\"Given list\")\n",
    "print(a)\n",
    "print(\"\\n\")\n",
    "\n",
    "\n",
    "result = list(filter(lambda x : x == \"\".join(reversed(x)),a))\n",
    "print(\"List having palindromes\")\n",
    "print(result)"
   ]
  },
  {
   "cell_type": "code",
   "execution_count": null,
   "id": "0adcf0f7-6bee-4a09-be02-7493a56c0023",
   "metadata": {},
   "outputs": [],
   "source": []
  }
 ],
 "metadata": {
  "kernelspec": {
   "display_name": "Python 3 (ipykernel)",
   "language": "python",
   "name": "python3"
  },
  "language_info": {
   "codemirror_mode": {
    "name": "ipython",
    "version": 3
   },
   "file_extension": ".py",
   "mimetype": "text/x-python",
   "name": "python",
   "nbconvert_exporter": "python",
   "pygments_lexer": "ipython3",
   "version": "3.10.8"
  }
 },
 "nbformat": 4,
 "nbformat_minor": 5
}
