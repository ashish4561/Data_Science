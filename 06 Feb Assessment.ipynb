{
 "cells": [
  {
   "cell_type": "markdown",
   "id": "e52f0cc3-3a0a-4a60-823d-a37fe7bc124e",
   "metadata": {},
   "source": [
    "## Data Science Master's \n",
    "#### 06 Feb Assignment"
   ]
  },
  {
   "cell_type": "markdown",
   "id": "22b44312-4f46-4a94-9c76-ae60220a9e94",
   "metadata": {},
   "source": [
    "### Q1. Create a function which will take a list as an argument and return the product of all the numbers after creating a flat list. Use the below-given list as an argument for your function.\n",
    "list1 = [1,2,3,4, [44,55,66, True], False, (34,56,78,89,34), {1,2,3,3,2,1}, {1:34, \"key2\": [55, 67, 78, 89], 4: (45,\n",
    "22, 61, 34)}, [56, 'data science'], 'Machine Learning']\n",
    "\n",
    "Note: you must extract numeric keys and values of the dictionary also."
   ]
  },
  {
   "cell_type": "code",
   "execution_count": 3,
   "id": "b191c086-3020-495c-9468-e76e885ccbdb",
   "metadata": {},
   "outputs": [
    {
     "name": "stdout",
     "output_type": "stream",
     "text": [
      "[1, 2, 3, 4, 44, 55, 66, 34, 56, 78, 89, 34, 1, 2, 3, 56, 1, 2, 3, 4, 44, 55, 66, 34, 56, 78, 89, 34, 1, 2, 3, 56]\n",
      "Product of all integer value present in list335027596803989627234494984067481600\n"
     ]
    }
   ],
   "source": [
    "list1 = [1,2,3,4,\n",
    "         [44,55,66, True], \n",
    "         False, (34,56,78,89,34), \n",
    "         {1,2,3,3,2,1}, \n",
    "         {1:34, \"key2\": [55, 67, 78, 89], 4: (45, 22, 61, 34)}, \n",
    "         [56, 'data science'], \n",
    "         'Machine Learning']\n",
    "\n",
    "newlist = []\n",
    "for i in list1:\n",
    "    if type(i) == int:\n",
    "        newlist.append(i)\n",
    "        \n",
    "    elif type(i) == list or type(i) == tuple or type(i) == set:\n",
    "        for item in i:\n",
    "            newlist.append(item)\n",
    "        \n",
    "lst=[]   \n",
    "for i in newlist:\n",
    "    if type(i) == int:\n",
    "        lst.append(i)\n",
    "        \n",
    "    elif type(i) == list or type(i) == tuple or type(i) == set:\n",
    "        for item in i:\n",
    "            lst.append(item)\n",
    "\n",
    "ls=newlist+lst\n",
    "\n",
    "num=[]\n",
    "for i in ls:\n",
    "    if type(i) == int:\n",
    "        num.append(i)\n",
    "    elif type(i) == tuple or type(i) == set or type(i) == list:\n",
    "        for item in i:\n",
    "            num.append(item)\n",
    "        \n",
    "print(num)\n",
    "pro = 1\n",
    "for i in num:\n",
    "    pro=pro*i\n",
    "print(f\"Product of all integer value present in list{pro}\")\n",
    "\n",
    "        "
   ]
  },
  {
   "cell_type": "markdown",
   "id": "20bce125-a620-4f22-8005-2c7e51f0c243",
   "metadata": {},
   "source": [
    "### Q2. Write a python program for encrypting a message sent to you by your friend. The logic of encryption should be such that, for a the output should be z. For b, the output should be y. For c, the output should be x respectively. Also, the whitespace should be replaced with a dollar sign. Keep the punctuation marks unchanged.\n",
    "\n",
    "Input Sentence: I want to become a Data Scientist.\n",
    "\n",
    "Encrypt the above input sentence using the program you just created.\n",
    "\n",
    "Note: Convert the given input sentence into lowercase before encrypting. The final output should be\n",
    "lowercase.\n",
    "\n",
    "Ans:\n"
   ]
  },
  {
   "cell_type": "code",
   "execution_count": 9,
   "id": "f2b5c755-85a3-483f-9c37-7900bef280d5",
   "metadata": {},
   "outputs": [
    {
     "name": "stdout",
     "output_type": "stream",
     "text": [
      "Given string is: i want to become a data scientist.\n",
      "Encrypt string is: i$wznt$to$yexome$z$dztz$sxientist.\n"
     ]
    }
   ],
   "source": [
    "mess = \"I want to become a Data Scientist.\"\n",
    "mess = mess.lower()\n",
    "print(f\"Given string is: {mess}\")\n",
    "new_mess = \"\"\n",
    "for i in mess:\n",
    "    if i == \"a\":\n",
    "        new_mess = new_mess + \"z\"\n",
    "        \n",
    "    elif i == \"b\":\n",
    "        new_mess = new_mess + \"y\"\n",
    "        \n",
    "    elif i == \"c\":\n",
    "        new_mess = new_mess + \"x\"\n",
    "        \n",
    "    elif i == \" \":\n",
    "        new_mess = new_mess + \"$\"\n",
    "    else:\n",
    "        new_mess = new_mess + i\n",
    "        \n",
    "print(f\"Encrypt string is: {new_mess}\")\n",
    "        \n"
   ]
  },
  {
   "cell_type": "code",
   "execution_count": null,
   "id": "7069c8ed-6eb1-4184-9220-7ec77057c428",
   "metadata": {},
   "outputs": [],
   "source": []
  }
 ],
 "metadata": {
  "kernelspec": {
   "display_name": "Python 3 (ipykernel)",
   "language": "python",
   "name": "python3"
  },
  "language_info": {
   "codemirror_mode": {
    "name": "ipython",
    "version": 3
   },
   "file_extension": ".py",
   "mimetype": "text/x-python",
   "name": "python",
   "nbconvert_exporter": "python",
   "pygments_lexer": "ipython3",
   "version": "3.10.8"
  }
 },
 "nbformat": 4,
 "nbformat_minor": 5
}
