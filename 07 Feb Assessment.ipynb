{
 "cells": [
  {
   "cell_type": "markdown",
   "id": "9118dca6-9aea-48b1-8406-c867a986442a",
   "metadata": {},
   "source": [
    "## Data Science Master's \n",
    "#### 07 Feb Assignment"
   ]
  },
  {
   "cell_type": "markdown",
   "id": "8b3d4ea2-bbd1-4765-8547-23de9a41eeeb",
   "metadata": {},
   "source": [
    "### Q1. You are writing code for a company. The requirement of the company is that you create a python function that will check whether the password entered by the user is correct or not. The function should take the password as input and return the string “Valid Password” if the entered password follows the below-given password guidelines else it should return “Invalid Password”.\n",
    "\n",
    " Note:\n",
    "1. The Password should contain at least two uppercase letters and at least two lowercase letters.\n",
    "2. The Password should contain at least a number and three special characters.\n",
    "3. The length of the password should be 10 characters long."
   ]
  },
  {
   "cell_type": "code",
   "execution_count": 2,
   "id": "099b2e33-0660-46b1-a97c-b67de22a9f2a",
   "metadata": {},
   "outputs": [
    {
     "name": "stdin",
     "output_type": "stream",
     "text": [
      "Enter the Password AShishnir@nj@n#12\n"
     ]
    },
    {
     "name": "stdout",
     "output_type": "stream",
     "text": [
      "valid Password\n"
     ]
    }
   ],
   "source": [
    "up, lo, num, spe = 0, 0, 0, 0\n",
    "password = input(\"Enter the Password\")\n",
    "\n",
    "if (len(password)>=10):\n",
    "    for i in password:\n",
    "        if (i.islower()):\n",
    "            lo+=1\n",
    "        \n",
    "        elif (i.isupper()):\n",
    "            up+=1\n",
    "        \n",
    "        elif (i.isdigit()):\n",
    "            num+=1\n",
    "            \n",
    "        elif (i == \"@\" or i == \"#\" or i == \"$\" or i == \"%\" or i == \"&\" or i == \"*\"):\n",
    "            spe+=1\n",
    "            \n",
    "if (up>1 and lo>1 and num>=1 and spe>2):\n",
    "    print(\"valid Password\")\n",
    "    \n",
    "else:\n",
    "    print(\"Invalid Password\")"
   ]
  },
  {
   "cell_type": "markdown",
   "id": "89a6db7f-ba70-4fe3-9244-359a96ce089b",
   "metadata": {},
   "source": [
    "### Q2. Solve the below-given questions using at least one of the following:  \n",
    "1. Lambda function \n",
    "2. Filter function \n",
    "3. Map function \n",
    "4. List Comprehension \n",
    "\n",
    "=> Check if the string starts with a particular letter T.\n",
    "\n",
    "=> Check if the string is numeric.\n",
    "\n",
    "=> Sort a list of tuples having fruit names and their quantity.   [(\"mango\",99),(\"orange\",80), (\"grapes\", 1000)\n",
    "\n",
    "=> Find the squares of numbers from 1 to 10.\n",
    "\n",
    "=> Find the cube root of numbers from 1 to 10.\n",
    "\n",
    "=> Check if a given number is even.\n",
    "\n",
    "=> Filter odd numbers from the given list.[1,2,3,4,5,6,7,8,9,10]\n",
    "\n",
    "=> Sort a list of integers into positive and negative integers lists.[1,2,3,4,5,6,-1,-2,-3,-4,-5,0]\n",
    "\n",
    "Ans:\n",
    " \n"
   ]
  },
  {
   "cell_type": "code",
   "execution_count": 4,
   "id": "e31e8fd1-91dd-45f4-855e-39b40474e55d",
   "metadata": {},
   "outputs": [
    {
     "name": "stdout",
     "output_type": "stream",
     "text": [
      "Yes, your string is start with T.\n"
     ]
    }
   ],
   "source": [
    "# Check if the string starts with a particular letter T.\n",
    "\n",
    "str = \"this is my life\"\n",
    "str = str.upper()\n",
    "\n",
    "if str.startswith(\"T\"):\n",
    "    print(\"Yes, your string is start with T.\")\n",
    "    \n",
    "else:\n",
    "    print('No, your string is not start with T.')"
   ]
  },
  {
   "cell_type": "code",
   "execution_count": 3,
   "id": "1969c4de-1220-4c74-8f0e-829563f4cd34",
   "metadata": {},
   "outputs": [
    {
     "name": "stdout",
     "output_type": "stream",
     "text": [
      "Enter string is numeric\n"
     ]
    }
   ],
   "source": [
    "# Check if the string is numeric.\n",
    "\n",
    "str = '78236743'\n",
    "\n",
    "if str.isnumeric():\n",
    "    print('Enter string is numeric')\n",
    "    \n",
    "else:\n",
    "    print('Enter string is not numeric')"
   ]
  },
  {
   "cell_type": "code",
   "execution_count": 8,
   "id": "4f742e75-9d18-4b63-a3ef-b44b9e4c7862",
   "metadata": {},
   "outputs": [
    {
     "name": "stdout",
     "output_type": "stream",
     "text": [
      "[('orange', 80), ('mango', 99), ('grapes', 1000)]\n"
     ]
    }
   ],
   "source": [
    "# Sort a list of tuples having fruit names and their quantity. [(\"mango\",99),(\"orange\",80), (\"grapes\", 1000)]\n",
    "\n",
    "fruits = [(\"mango\",99),(\"orange\",80), (\"grapes\", 1000)]\n",
    "\n",
    "fruits.sort(key = lambda x : x[1])\n",
    "\n",
    "print(fruits)"
   ]
  },
  {
   "cell_type": "code",
   "execution_count": 30,
   "id": "241a1ded-dc17-46bb-8e1b-dffe86e24439",
   "metadata": {},
   "outputs": [
    {
     "name": "stdout",
     "output_type": "stream",
     "text": [
      "Square of the number: [1, 4, 9, 16, 25, 36, 49, 64, 81, 100]\n"
     ]
    }
   ],
   "source": [
    "# Find the squares of numbers from 1 to 10.\n",
    "\n",
    "ls = []\n",
    "for i in range (1,11):\n",
    "    ls.append(i)\n",
    "    \n",
    "sq = list(map(lambda x : x*x,ls))\n",
    "print(f'Square of the number: {sq}')"
   ]
  },
  {
   "cell_type": "code",
   "execution_count": 34,
   "id": "a3b8eba7-e53c-44bf-ad82-530c42687c42",
   "metadata": {},
   "outputs": [
    {
     "name": "stdout",
     "output_type": "stream",
     "text": [
      "Cube root of given numbers: [1, 8, 27, 64, 125, 216, 343, 512, 729, 1000]\n"
     ]
    }
   ],
   "source": [
    "# Find the cube root of numbers from 1 to 10.\n",
    "\n",
    "ls = []\n",
    "for i in range(1,11):\n",
    "    ls.append(i)\n",
    "    \n",
    "crt = list(map(lambda x : x**3,ls))\n",
    "print(f'Cube root of given numbers: {crt}')"
   ]
  },
  {
   "cell_type": "code",
   "execution_count": 39,
   "id": "6118122b-9f38-43b5-acae-2ec23cd46a6c",
   "metadata": {},
   "outputs": [
    {
     "name": "stdin",
     "output_type": "stream",
     "text": [
      "Enter number 23234\n"
     ]
    },
    {
     "name": "stdout",
     "output_type": "stream",
     "text": [
      "23234 is even\n"
     ]
    }
   ],
   "source": [
    "# Check if a given number is even.\n",
    "\n",
    "result = lambda x : f\"{x} is even\" if x %2==0 else f\"{x} is odd\"\n",
    "\n",
    "print(result(int(input('Enter number'))))"
   ]
  },
  {
   "cell_type": "code",
   "execution_count": 42,
   "id": "0ca839b6-7931-4fd9-80ed-b96e0a6fa41b",
   "metadata": {},
   "outputs": [
    {
     "name": "stdout",
     "output_type": "stream",
     "text": [
      "Odd numbers form list are: [1, 3, 5, 7, 9]\n"
     ]
    }
   ],
   "source": [
    "# Filter odd numbers from the given list. [1,2,3,4,5,6,7,8,9,10]\n",
    "\n",
    "ls = [1,2,3,4,5,6,7,8,9,10]\n",
    "\n",
    "odd = filter(lambda x : x%2!=0, ls)\n",
    "print(f'Odd numbers form list are: {list(odd)}')"
   ]
  },
  {
   "cell_type": "code",
   "execution_count": 15,
   "id": "3c48669f-977a-4929-afd4-b2e6cdad0c26",
   "metadata": {},
   "outputs": [
    {
     "name": "stdout",
     "output_type": "stream",
     "text": [
      "Positive list is: [1, 2, 3, 4, 5, 6]\n",
      "Negative list is: [-1, -2, -3, -4, -5]\n"
     ]
    }
   ],
   "source": [
    "# Sort a list of integers into positive and negative integers lists. [1,2,3,4,5,6,-1,-2,-3,-4,-5,0]\n",
    "\n",
    "ls = [1,2,3,4,5,6,-1,-2,-3,-4,-5,0]\n",
    "\n",
    "\n",
    "\n",
    "positive = filter(lambda x : x>0, ls)\n",
    "negative = filter(lambda x : x<0, ls)\n",
    "\n",
    "print(f'Positive list is: {list(positive)}')\n",
    "print(f'Negative list is: {list(negative)}')"
   ]
  },
  {
   "cell_type": "code",
   "execution_count": null,
   "id": "449a0bdb-67cf-48c5-9b5a-36eddc41588b",
   "metadata": {},
   "outputs": [],
   "source": []
  }
 ],
 "metadata": {
  "kernelspec": {
   "display_name": "Python 3 (ipykernel)",
   "language": "python",
   "name": "python3"
  },
  "language_info": {
   "codemirror_mode": {
    "name": "ipython",
    "version": 3
   },
   "file_extension": ".py",
   "mimetype": "text/x-python",
   "name": "python",
   "nbconvert_exporter": "python",
   "pygments_lexer": "ipython3",
   "version": "3.10.8"
  }
 },
 "nbformat": 4,
 "nbformat_minor": 5
}
