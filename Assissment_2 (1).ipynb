{
 "cells": [
  {
   "cell_type": "markdown",
   "id": "6f7f0669-7264-4f74-a0da-9a858eb2da43",
   "metadata": {},
   "source": [
    " ### 1. Write a program to accept percentage from the user and display the grade according to the following \n",
    "### criteria: \n",
    "\n",
    "|marks|grade|\n",
    "|-|-|\n",
    "|**>90**|***a***|\n",
    "|**>80 and <=90**|***b***|\n",
    "|**>=60 and <=80**|***c***|\n",
    "|**Below 60**|***d***|\n",
    "\n",
    "Ans:"
   ]
  },
  {
   "cell_type": "code",
   "execution_count": 12,
   "id": "ab4686c6-9841-4bbb-9f76-7877948ad828",
   "metadata": {},
   "outputs": [
    {
     "name": "stdin",
     "output_type": "stream",
     "text": [
      "Enter the marks 87\n"
     ]
    },
    {
     "name": "stdout",
     "output_type": "stream",
     "text": [
      "Your grade is B.\n"
     ]
    }
   ],
   "source": [
    "marks = int(input(\"Enter the marks\"))\n",
    "\n",
    "if marks>90:\n",
    "    print(\"Your grade is A.\")\n",
    "elif marks>80 and marks<=90:\n",
    "    print(\"Your grade is B.\")\n",
    "elif marks>=60 and marks<=80:\n",
    "    print(\"Your grade is C.\")\n",
    "else:\n",
    "    print(\"Your grade is D.\")\n"
   ]
  },
  {
   "cell_type": "markdown",
   "id": "fa46ea3c-c9ca-4b3e-ab07-6b51d784ca37",
   "metadata": {},
   "source": [
    "### 2. Write a program to accept the cost price of a bike and display the road tax to be paid according to the Following\n",
    "### criteria: \n",
    "\n",
    "|tax|Cost price(in Rs)|\n",
    "|-|-|\n",
    "|**15%**|***>100000***|\n",
    "|**10%**|***50000 and <= 100000***|\n",
    "|**5%**|***<=50000***|\n",
    "\n",
    "\n",
    "Ans:"
   ]
  },
  {
   "cell_type": "code",
   "execution_count": 2,
   "id": "a43bd2f1-2020-486e-8f63-c3c4174386d0",
   "metadata": {},
   "outputs": [
    {
     "name": "stdin",
     "output_type": "stream",
     "text": [
      "What is the Price of the bike? 350000\n"
     ]
    },
    {
     "name": "stdout",
     "output_type": "stream",
     "text": [
      "Raod Tax is: 52500.0\n"
     ]
    }
   ],
   "source": [
    "cost = int(input(\"What is the Price of the bike?\"))\n",
    "\n",
    "if cost > 100000:\n",
    "    print(f\"Raod Tax is: {cost * 0.15}\")\n",
    "elif cost > 50000 and cost <= 100000 :\n",
    "    print(f\"Raod Tax is: {cost * 0.1}\")\n",
    "else: \n",
    "    print(f\"Raod Tax is: {cost * 0.05}\")"
   ]
  },
  {
   "cell_type": "markdown",
   "id": "737459ab-66df-4b8f-8ee9-fae08cbcf39c",
   "metadata": {},
   "source": [
    "### 3. Accept any city from the user and display monuments of that city. \n",
    "### criteria: \n",
    "\n",
    "|tax|Cost price(in Rs)|\n",
    "|-|-|\n",
    "|**Delhi**|***Red Fort***|\n",
    "|**Agra**|***Taj Mahal***|\n",
    "|**Jaipur**|***Jal Mahal***|\n",
    "\n",
    "\n",
    "Ans:\n",
    "\n"
   ]
  },
  {
   "cell_type": "code",
   "execution_count": 9,
   "id": "1a6c6286-c7d4-4f0d-a2ca-4b999e235bea",
   "metadata": {},
   "outputs": [
    {
     "name": "stdin",
     "output_type": "stream",
     "text": [
      "Enter the city from table nepal\n"
     ]
    },
    {
     "name": "stdout",
     "output_type": "stream",
     "text": [
      "you enter the wrong city plese choose the correct one\n"
     ]
    }
   ],
   "source": [
    "city = input(\"Enter the city from table\")\n",
    "citys = city.capitalize()\n",
    "if citys == \"Delhi\":\n",
    "    print(f\"you can visit Red Fort in {citys}\")\n",
    "elif citys == \"Agra\":\n",
    "    print(f\"you can visit Taj Mahal in {citys}\")\n",
    "elif citys == \"Jaipur\":\n",
    "    print(f\"you can visit Jal Mahal in {citys}\")\n",
    "else:\n",
    "    print(\"you enter the wrong city plese choose the correct one\")"
   ]
  },
  {
   "cell_type": "markdown",
   "id": "df03e424-51f2-4d7b-b30d-7247165fb261",
   "metadata": {},
   "source": [
    "### 4. Check how many times a given number can be divided by 3 before it is less than or equal to 10. \n",
    "Ans:\n"
   ]
  },
  {
   "cell_type": "code",
   "execution_count": 12,
   "id": "707e1bc6-8221-41ac-b3b0-9b535b9b4baa",
   "metadata": {},
   "outputs": [
    {
     "name": "stdin",
     "output_type": "stream",
     "text": [
      "enter the number 80\n"
     ]
    },
    {
     "name": "stdout",
     "output_type": "stream",
     "text": [
      "2\n"
     ]
    }
   ],
   "source": [
    "n = int(input(\"enter the number\"))\n",
    "count=0\n",
    "while n>10:\n",
    "    count+=1\n",
    "    n=n/3\n",
    "print(count)"
   ]
  },
  {
   "cell_type": "markdown",
   "id": "e1e96b37-b5e5-4dbf-afaa-979401dd18e4",
   "metadata": {},
   "source": [
    "### 5. Why and When to Use while Loop in Python give a detailed description with example \n",
    "Ans:\n",
    " A while loop in python allows a part of the code to be executed repeatedly as long as a given condition is true. The while loop in python is also called a pre-tested loop. It is typically used when the number of iterations is not known.\n",
    " A python while loop expression condition consists of three parts:\n",
    "1. A piece of code that needs to be repeated over and over\n",
    "2. The while keyword\n",
    "3. A condition that translates to either true or false\n"
   ]
  },
  {
   "cell_type": "markdown",
   "id": "690dd538-34a7-4e65-ac18-85f876a1ddbe",
   "metadata": {},
   "source": [
    "### 6. Use nested while loop to print 3 different patterns. \n",
    "Ans:"
   ]
  },
  {
   "cell_type": "code",
   "execution_count": 17,
   "id": "9852f40a-5b47-439d-b872-0edf684d68df",
   "metadata": {},
   "outputs": [
    {
     "name": "stdin",
     "output_type": "stream",
     "text": [
      "Enter number of rows :  6\n"
     ]
    },
    {
     "name": "stdout",
     "output_type": "stream",
     "text": [
      "* \n",
      "* * \n",
      "* * * \n",
      "* * * * \n",
      "* * * * * \n",
      "* * * * * * \n"
     ]
    }
   ],
   "source": [
    "n = int(input('Enter number of rows : '))\n",
    " \n",
    "i = 1\n",
    "while i <= n :\n",
    "    j = 1\n",
    "    while j <= i:\n",
    "        print(\"*\", end = \" \")\n",
    "        j += 1\n",
    "    print()\n",
    "    i += 1"
   ]
  },
  {
   "cell_type": "code",
   "execution_count": 18,
   "id": "d3f739db-45bd-40d7-99ae-9f8442b0bed8",
   "metadata": {},
   "outputs": [
    {
     "name": "stdin",
     "output_type": "stream",
     "text": [
      "Enter number of rows :  7\n"
     ]
    },
    {
     "name": "stdout",
     "output_type": "stream",
     "text": [
      "* * * * * * * \n",
      "* * * * * * \n",
      "* * * * * \n",
      "* * * * \n",
      "* * * \n",
      "* * \n",
      "* \n"
     ]
    }
   ],
   "source": [
    "n = int(input('Enter number of rows : '))\n",
    " \n",
    "i = 1\n",
    "while i <= n :\n",
    "    j = n\n",
    "    while j >= i:\n",
    "        print(\"*\", end = \" \")\n",
    "        j -= 1\n",
    "    print()\n",
    "    i += 1"
   ]
  },
  {
   "cell_type": "code",
   "execution_count": 19,
   "id": "3a8ef1b1-5331-44d7-9744-83bb79487469",
   "metadata": {},
   "outputs": [
    {
     "name": "stdin",
     "output_type": "stream",
     "text": [
      "Enter number of rows :  8\n"
     ]
    },
    {
     "name": "stdout",
     "output_type": "stream",
     "text": [
      "  1 \n",
      "  2   3 \n",
      "  4   5   6 \n",
      "  7   8   9  10 \n",
      " 11  12  13  14  15 \n",
      " 16  17  18  19  20  21 \n",
      " 22  23  24  25  26  27  28 \n",
      " 29  30  31  32  33  34  35  36 \n"
     ]
    }
   ],
   "source": [
    "n = int(input('Enter number of rows : '))\n",
    " \n",
    "k = 1\n",
    "i = 1\n",
    "while i <= n :\n",
    "    j = 1\n",
    "    while j <= i:\n",
    "        print(\"{:3d}\".format(k), end = \" \")\n",
    "        j += 1\n",
    "        k += 1\n",
    "    print()\n",
    "    i += 1"
   ]
  },
  {
   "cell_type": "markdown",
   "id": "f2e915cf-b284-4d11-8679-f1d224aa907a",
   "metadata": {},
   "source": [
    "### 7. Reverse a while loop to display numbers from 10 to 1\n",
    "Ans:"
   ]
  },
  {
   "cell_type": "code",
   "execution_count": 1,
   "id": "7d28f74a-d3bb-4bcc-9604-c47ac517e62a",
   "metadata": {},
   "outputs": [
    {
     "name": "stdout",
     "output_type": "stream",
     "text": [
      "10 9 8 7 6 5 4 3 2 1 "
     ]
    }
   ],
   "source": [
    "i = 10\n",
    "\n",
    "while i>=1:\n",
    "    print(i, end=\" \")\n",
    "    i -= 1"
   ]
  },
  {
   "cell_type": "markdown",
   "id": "2844930d-5ecd-4296-9bc4-f4d1c7014ab5",
   "metadata": {},
   "source": [
    "### 8. Reverse a while loop to display numbers from 10 to 1\n",
    "Ans:"
   ]
  },
  {
   "cell_type": "code",
   "execution_count": 13,
   "id": "c70363a3-ca62-4b71-b5f7-6dc77d879b45",
   "metadata": {},
   "outputs": [
    {
     "name": "stdout",
     "output_type": "stream",
     "text": [
      "10 9 8 7 6 5 4 3 2 1 "
     ]
    }
   ],
   "source": [
    "i = 10\n",
    "\n",
    "while i>=1:\n",
    "    print(i, end=\" \")\n",
    "    i -= 1"
   ]
  }
 ],
 "metadata": {
  "kernelspec": {
   "display_name": "Python 3 (ipykernel)",
   "language": "python",
   "name": "python3"
  },
  "language_info": {
   "codemirror_mode": {
    "name": "ipython",
    "version": 3
   },
   "file_extension": ".py",
   "mimetype": "text/x-python",
   "name": "python",
   "nbconvert_exporter": "python",
   "pygments_lexer": "ipython3",
   "version": "3.10.8"
  }
 },
 "nbformat": 4,
 "nbformat_minor": 5
}
