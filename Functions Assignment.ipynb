{
 "cells": [
  {
   "cell_type": "markdown",
   "id": "c0709908-f457-4707-a4b6-f3362b85197d",
   "metadata": {},
   "source": [
    "## Data Science Master's \n",
    "#### Functions Assignment\n",
    "\n",
    "\n"
   ]
  },
  {
   "cell_type": "markdown",
   "id": "6a14aace-d30d-48c4-920c-abf6cefafd07",
   "metadata": {},
   "source": [
    "### 1. Which keyword is used to create a function? Create a function to return a list of odd numbers in the range of 1 to 25.\n",
    "Ans:\n"
   ]
  },
  {
   "cell_type": "markdown",
   "id": "f3440581-5449-4210-983a-1b4cd680566f",
   "metadata": {},
   "source": [
    "The def keyword is used to create, (or define) a function.\n",
    "\n",
    "syntex:\n",
    "def functionname( parameters ):\n",
    "   \"function_docstring\"\n",
    "   function_suite\n",
    "   return [expression]"
   ]
  },
  {
   "cell_type": "code",
   "execution_count": 6,
   "id": "4c1fae89-71d7-4768-8652-43e15b17d7b4",
   "metadata": {},
   "outputs": [
    {
     "data": {
      "text/plain": [
       "[1, 3, 5, 7, 9, 11, 13, 15, 17, 19, 21, 23, 25]"
      ]
     },
     "execution_count": 6,
     "metadata": {},
     "output_type": "execute_result"
    }
   ],
   "source": [
    "def odd_num(n):\n",
    "    odd = []\n",
    "    for i in range(n+1):\n",
    "        if i % 2 != 0:\n",
    "            odd.append(i)\n",
    "            \n",
    "    return odd\n",
    "            \n",
    "odd_num(25)\n"
   ]
  },
  {
   "cell_type": "markdown",
   "id": "87529a91-b06e-475a-8019-ba13b1f223b5",
   "metadata": {},
   "source": [
    "### 2. Why *args and **kwargs is used in some functions? Create a function each for *args and **kwargs to demonstrate their use.\n",
    "Ans:\n",
    "python *args\n",
    "\n",
    "As in the above example we are not sure about the number of arguments that can be passed to a function. Python has *args which allow us to pass the variable number of non keyword arguments to function.The arguments are passed as a tuple and these passed arguments make tuple inside the function with same name as the parameter excluding asterisk *.\n",
    "\n",
    "Example:\n"
   ]
  },
  {
   "cell_type": "code",
   "execution_count": 2,
   "id": "e7ea3c63-279f-436c-97ca-3b882f8b0ff5",
   "metadata": {},
   "outputs": [
    {
     "name": "stdout",
     "output_type": "stream",
     "text": [
      "<class 'tuple'>\n"
     ]
    },
    {
     "data": {
      "text/plain": [
       "14"
      ]
     },
     "execution_count": 2,
     "metadata": {},
     "output_type": "execute_result"
    }
   ],
   "source": [
    "def add(*num):\n",
    "    sum=0\n",
    "    print (type(num))\n",
    "    for i in num:\n",
    "        sum+=i\n",
    "    return sum\n",
    "\n",
    "add(1,2,3,4,4)"
   ]
  },
  {
   "cell_type": "markdown",
   "id": "22c68ba3-a0af-4f49-986e-e9dba5630c88",
   "metadata": {},
   "source": [
    "python **kwargs\n",
    "\n",
    "Python passes variable length non keyword argument to function using *args but we cannot use this to pass keyword argument. For this problem Python has got a solution called **kwargs, it allows us to pass the variable length of keyword arguments to the function.\n",
    "\n",
    "In the function, we use the double asterisk ** before the parameter name to denote this type of argument. The arguments are passed as a dictionary and these arguments make a dictionary inside function with name same as the parameter excluding double asterisk **.\n"
   ]
  },
  {
   "cell_type": "code",
   "execution_count": 13,
   "id": "65bc3a06-15a2-433e-a534-e162ebd006bd",
   "metadata": {},
   "outputs": [
    {
     "name": "stdout",
     "output_type": "stream",
     "text": [
      "<class 'dict'>\n",
      "name is Ashish.\n",
      "number is 8319951903.\n",
      "age is 23.\n",
      "city is Bhopal.\n",
      "Deegre is B.Tech.\n",
      "\n",
      "\n",
      "<class 'dict'>\n",
      "name is Anchal.\n",
      "number is 8017941903.\n",
      "age is 22.\n",
      "city is Indore.\n",
      "Deegre is Bsc.\n",
      "\n",
      "\n"
     ]
    },
    {
     "data": {
      "text/plain": [
       "{'name': 'Anchal',\n",
       " 'number': 8017941903,\n",
       " 'age': 22,\n",
       " 'city': 'Indore',\n",
       " 'Deegre': 'Bsc'}"
      ]
     },
     "execution_count": 13,
     "metadata": {},
     "output_type": "execute_result"
    }
   ],
   "source": [
    "def detail(**info):\n",
    "    # dis = []\n",
    "    print (type(info))\n",
    "    \n",
    "    for key, value in info.items():\n",
    "        print(f\"{key} is {value}.\")\n",
    "       # dis.append(key,value)\n",
    "    print(\"\\n\")\n",
    "    \n",
    "    return info\n",
    "        \n",
    "detail(name=\"Ashish\", number=8319951903, age=23, city=\"Bhopal\", Deegre=\"B.Tech\")\n",
    "detail(name=\"Anchal\", number=8017941903, age=22, city=\"Indore\", Deegre=\"Bsc\")"
   ]
  },
  {
   "cell_type": "markdown",
   "id": "25f780c1-2b3e-48bf-837e-7aca09b61364",
   "metadata": {},
   "source": [
    "### 3.  What is an iterator in python? Name the method used to initialise the iterator object and the method  used for iteration. Use these methods to print the first five elements of the given list [2, 4, 6, 8, 10, 12, 14, 16,  18, 20]. \n",
    "\n",
    "Ans:\n",
    "\n",
    "Iterator in Python is an object that is used to iterate over iterable objects like lists, tuples, dicts, and sets. \n",
    "\n",
    "The iterator object is initialized using the iter() method. It uses the next() method for iteration.\n",
    "\n",
    "1. iter(): The iter() method is called for the initialization of an iterator. This returns an iterator object\n",
    "2. next(): The next method returns the next value for the iterable. When we use a for loop to traverse any iterable object, internally it uses the iter() method to get an iterator object, which further uses the next() method\n",
    "\n"
   ]
  },
  {
   "cell_type": "code",
   "execution_count": 3,
   "id": "b5b153d5-c701-40fe-ba9b-97adf63864b5",
   "metadata": {},
   "outputs": [
    {
     "name": "stdout",
     "output_type": "stream",
     "text": [
      "2\n",
      "4\n",
      "6\n",
      "8\n",
      "10\n"
     ]
    }
   ],
   "source": [
    "my_list = [2,4,6,8,10,12,14,16,18,20]\n",
    "it = iter(my_list)\n",
    "print(next(it))\n",
    "print(next(it))\n",
    "print(next(it))\n",
    "print(next(it))\n",
    "print(next(it))"
   ]
  },
  {
   "cell_type": "markdown",
   "id": "30e6b117-046b-4b9a-9f20-b73432e5d0eb",
   "metadata": {},
   "source": [
    "### 4. What is a generator function in python? Why yield keyword is used? Give an example of a generator function.\n",
    "Ans:\n",
    "\n",
    "Python Generator functions allow you to declare a function that behaves likes an iterator, allowing programmers to make an iterator in a fast, easy, and clean way. An iterator is an object that can be iterated or looped upon. It is used to abstract a container of data to make it behave like an iterable object.\n",
    "\n",
    "yield keyword is used to create a generator function. A type of function that is memory efficient and can be used like an iterator object. In layman terms, the yield keyword will turn any expression that is given with it into a generator object and return it to the caller"
   ]
  },
  {
   "cell_type": "code",
   "execution_count": 5,
   "id": "277ee227-62e2-4086-9d52-e203febcd2b5",
   "metadata": {},
   "outputs": [
    {
     "name": "stdout",
     "output_type": "stream",
     "text": [
      "0\n",
      "1\n",
      "1\n",
      "2\n",
      "3\n",
      "5\n",
      "8\n",
      "13\n",
      "21\n",
      "34\n"
     ]
    }
   ],
   "source": [
    "def test_fib(n):\n",
    "    a,b = 0,1\n",
    "    for i in range(n):\n",
    "        yield a\n",
    "        a,b = b, a+b\n",
    "        \n",
    "for i in test_fib(10):\n",
    "    print(i)"
   ]
  },
  {
   "cell_type": "markdown",
   "id": "4240169d-8e70-44ff-9d63-e85236e279be",
   "metadata": {},
   "source": [
    "### 5. Create a generator function for prime numbers less than 1000. Use the next() method to print the first 20 prime numbers.\n",
    "\n",
    "Ans:\n"
   ]
  },
  {
   "cell_type": "code",
   "execution_count": 11,
   "id": "1e276f39-5178-4e3f-8a54-08f6afb05eac",
   "metadata": {},
   "outputs": [
    {
     "name": "stdout",
     "output_type": "stream",
     "text": [
      "2\n",
      "3\n",
      "5\n",
      "7\n",
      "11\n",
      "13\n",
      "17\n",
      "19\n",
      "23\n",
      "29\n",
      "31\n",
      "37\n",
      "41\n",
      "43\n",
      "47\n",
      "53\n",
      "59\n",
      "61\n",
      "67\n",
      "71\n"
     ]
    }
   ],
   "source": [
    "def is_prime(n):\n",
    "    if (n <= 1):\n",
    "        return False\n",
    "    if (n == 2):\n",
    "        return True\n",
    "    if (n % 2 == 0):\n",
    "        return False\n",
    "\n",
    "    i = 3\n",
    "    while i <= sqrt(n):\n",
    "        if n % i == 0:\n",
    "            return False\n",
    "        i = i + 2\n",
    "\n",
    "    return True\n",
    "def prime_generator():\n",
    "    n = 1\n",
    "    while True:\n",
    "        n += 1\n",
    "        if is_prime(n):\n",
    "            yield n\n",
    "\n",
    "generator = prime_generator()\n",
    "\n",
    "for i in range(20):\n",
    "    print(next(generator))"
   ]
  },
  {
   "cell_type": "code",
   "execution_count": null,
   "id": "3618f592-1d33-4292-a7ba-5ebe661fb59b",
   "metadata": {},
   "outputs": [],
   "source": []
  }
 ],
 "metadata": {
  "kernelspec": {
   "display_name": "Python 3 (ipykernel)",
   "language": "python",
   "name": "python3"
  },
  "language_info": {
   "codemirror_mode": {
    "name": "ipython",
    "version": 3
   },
   "file_extension": ".py",
   "mimetype": "text/x-python",
   "name": "python",
   "nbconvert_exporter": "python",
   "pygments_lexer": "ipython3",
   "version": "3.10.8"
  }
 },
 "nbformat": 4,
 "nbformat_minor": 5
}
