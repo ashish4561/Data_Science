{
 "cells": [
  {
   "cell_type": "markdown",
   "id": "4d011e10-0408-4343-adc4-fd878b3de6ce",
   "metadata": {},
   "source": [
    "## Data Science Master's \n",
    "### OOPS Assignment 05 feb"
   ]
  },
  {
   "cell_type": "markdown",
   "id": "acd472d9-6a31-474d-af8c-12ebe008fcdd",
   "metadata": {},
   "source": [
    "### Q1. Explain Class and Object with respect to Object-Oriented Programming. Give a suitable example.\n",
    "\n",
    "Ans:\n",
    "\n",
    "### Class\n",
    "\n",
    "A class is a user-defined blueprint or prototype from which objects are created. Classes provide a means of bundling data and functionality together. Creating a new class creates a new type of object, allowing new instances of that type to be made. Each class instance can have attributes attached to it for maintaining its state\n",
    "\n",
    "**Syntax: Class Definition** \n",
    "\n",
    "class ClassName:\n",
    "     Statement\n",
    "     \n",
    "**Syntax: Object Definition**\n",
    "\n",
    "\n",
    "obj = ClassName()\n",
    "print(obj.atrr)\n",
    "\n",
    "Class creates a user-defined data structure, which holds its own data members and member functions, which can be accessed and used by creating an instance of that class. A class is like a blueprint for an object.\n",
    "\n",
    "1. Classes are created by keyword class.\n",
    "2. Attributes are the variables that belong to a class.\n",
    "3. Attributes are always public and can be accessed using the dot (.) operator. Eg.: Myclass.Myattribute\n",
    "\n",
    "### Objects\n",
    "\n",
    "An Object is an instance of a Class. A class is like a blueprint while an instance is a copy of the class with actual values. It’s not an idea anymore, it’s an actual dog, like a dog of breed pug who’s seven years old. You can have many dogs to create many different instances, but without the class as a guide, you would be lost, not knowing what information is required.\n",
    "An object consists of : \n",
    "\n",
    "State: It is represented by the attributes of an object. It also reflects the properties of an object.\n",
    "Behaviour: It is represented by the methods of an object. It also reflects the response of an object to other objects.\n",
    "Identity: It gives a unique name to an object and enables one object to interact with other objects.\n",
    "\n",
    " ### self method\n",
    "The self parameter is a reference to the current instance of the class, and is used to access variables that belongs to the class.\n",
    "\n",
    "It does not have to be named self , you can call it whatever you like, but it has to be the first parameter of any function in the class:\n",
    "\n",
    "### __init__method\n",
    "\n",
    "The __init__ method is similar to constructors in C++ and Java. Constructors are used to initialize the object’s state. Like methods, a constructor also contains a collection of statements\n",
    "\n",
    "example:"
   ]
  },
  {
   "cell_type": "code",
   "execution_count": 12,
   "id": "7568b489-9e7f-4094-9e05-863ebca3a68b",
   "metadata": {},
   "outputs": [],
   "source": [
    "class profile:\n",
    "    \n",
    "        def __init__(student, name, course, age, hobby, marks):\n",
    "            student.name = name\n",
    "            student.course = course\n",
    "            student.age = age\n",
    "            student.hobby = hobby\n",
    "            student.marks = marks\n",
    "            \n",
    "        \n",
    "        def return_data(student):\n",
    "            print(f\"Hello my name is {student.name} and i am your new teacher of {student.course}.\\n My age is {student.age} and  my hobbys are {student.hobby}.\\n In my masters i score {student.marks}.\")"
   ]
  },
  {
   "cell_type": "code",
   "execution_count": 18,
   "id": "fc899840-2e17-4c62-8778-03b5e8a35694",
   "metadata": {},
   "outputs": [],
   "source": [
    "teacher = profile(\"Ashish\", \"TOC\", 35, \"reading\", \"90 CGPA\")"
   ]
  },
  {
   "cell_type": "code",
   "execution_count": 19,
   "id": "b841dffb-856b-456b-bc3e-219bbda9e9ae",
   "metadata": {},
   "outputs": [
    {
     "name": "stdout",
     "output_type": "stream",
     "text": [
      "Hello my name is Ashish and i am your new teacher of TOC.\n",
      " My age is 35 and hobbys are reading.\n",
      " In my masters i score 90 CGPA.\n"
     ]
    }
   ],
   "source": [
    "teacher.return_data()"
   ]
  },
  {
   "cell_type": "markdown",
   "id": "ea37b077-bc0c-4d09-adff-d673f80858cc",
   "metadata": {},
   "source": [
    "### Q2. Name the four pillars of OOPs.\n",
    "Ans.\n",
    "\n",
    "The four pillers of oops are:\n",
    "1. Polymorphism\n",
    "2. Encapsulation\n",
    "3. Inheritance\n",
    "4. Abstraction\n",
    "\n",
    "\n",
    "### Polymorphism\n",
    "Polymorphism simply means having many forms. For example, we need to determine if the given species of birds fly or not, using polymorphism we can do this using a single function."
   ]
  },
  {
   "cell_type": "code",
   "execution_count": 20,
   "id": "8379f180-4d45-496a-aee1-ffa222ecff6c",
   "metadata": {},
   "outputs": [
    {
     "name": "stdout",
     "output_type": "stream",
     "text": [
      "There are many types of birds.\n",
      "Most of the birds can fly but some cannot.\n",
      "There are many types of birds.\n",
      "Sparrows can fly.\n",
      "There are many types of birds.\n",
      "Ostriches cannot fly.\n"
     ]
    }
   ],
   "source": [
    "class Bird:\n",
    "\n",
    "\tdef intro(self):\n",
    "\t\tprint(\"There are many types of birds.\")\n",
    "\n",
    "\tdef flight(self):\n",
    "\t\tprint(\"Most of the birds can fly but some cannot.\")\n",
    "\n",
    "class sparrow(Bird):\n",
    "\n",
    "\tdef flight(self):\n",
    "\t\tprint(\"Sparrows can fly.\")\n",
    "\n",
    "class ostrich(Bird):\n",
    "\n",
    "\tdef flight(self):\n",
    "\t\tprint(\"Ostriches cannot fly.\")\n",
    "\n",
    "obj_bird = Bird()\n",
    "obj_spr = sparrow()\n",
    "obj_ost = ostrich()\n",
    "\n",
    "obj_bird.intro()\n",
    "obj_bird.flight()\n",
    "\n",
    "obj_spr.intro()\n",
    "obj_spr.flight()\n",
    "\n",
    "obj_ost.intro()\n",
    "obj_ost.flight()\n"
   ]
  },
  {
   "cell_type": "markdown",
   "id": "0b5823e9-c652-483c-aa47-88f2d9cb151e",
   "metadata": {},
   "source": [
    "### Encapsulation\n",
    "Encapsulation is one of the fundamental concepts in object-oriented programming (OOP). It describes the idea of wrapping data and the methods that work on data within one unit. This puts restrictions on accessing variables and methods directly and can prevent the accidental modification of data. To prevent accidental change, an object’s variable can only be changed by an object’s method. Those types of variables are known as private variables."
   ]
  },
  {
   "cell_type": "code",
   "execution_count": 21,
   "id": "362c5115-c838-4e17-a8a3-66260d7f93a9",
   "metadata": {},
   "outputs": [
    {
     "name": "stdout",
     "output_type": "stream",
     "text": [
      "GeeksforGeeks\n"
     ]
    }
   ],
   "source": [
    "\n",
    "class Base:\n",
    "\tdef __init__(self):\n",
    "\t\tself.a = \"GeeksforGeeks\"\n",
    "\t\tself.__c = \"GeeksforGeeks\"\n",
    "\n",
    "class Derived(Base):\n",
    "\tdef __init__(self):\n",
    "\n",
    "\t\tBase.__init__(self)\n",
    "\t\tprint(\"Calling private member of base class: \")\n",
    "\t\tprint(self.__c)\n",
    "\n",
    "\n",
    "obj1 = Base()\n",
    "print(obj1.a)\n",
    "\n",
    " \n"
   ]
  },
  {
   "cell_type": "markdown",
   "id": "7d179182-e29c-4167-9e43-021f7ba4b6a4",
   "metadata": {},
   "source": [
    "### Inheritance\n",
    "Inheritance is the capability of one class to derive or inherit the properties from another class. The class that derives properties is called the derived class or child class and the class from which the properties are being derived is called the base class or parent class. The benefits of inheritance are:\n",
    "\n",
    "1. It represents real-world relationships well.\n",
    "2. It provides the reusability of a code. We don’t have to write the same code again and again. Also, it allows us to add more features to a class without modifying it.\n",
    "3. It is transitive in nature, which means that if class B inherits from another class A, then all the subclasses of B would automatically inherit from class A."
   ]
  },
  {
   "cell_type": "markdown",
   "id": "d86a4647-d4ec-47ad-a944-06b260055f51",
   "metadata": {},
   "source": [
    "### Types of Inheritance – \n",
    "***Single Inheritance:***\n",
    "\n",
    "Single-level inheritance enables a derived class to inherit characteristics from a single-parent class.\n",
    "\n",
    "***Multilevel Inheritance:***\n",
    "\n",
    "Multi-level inheritance enables a derived class to inherit properties from an immediate parent class which in turn inherits properties from his parent class.\n",
    "\n",
    "***Hierarchical Inheritance:***\n",
    "\n",
    "Hierarchical level inheritance enables more than one derived class to inherit properties from a parent class.\n",
    "\n",
    "***Multiple Inheritance:***\n",
    "\n",
    "Multiple level inheritance enables one derived class to inherit properties from more than one base class."
   ]
  },
  {
   "cell_type": "code",
   "execution_count": 22,
   "id": "f55fd7a5-0ef8-4d8a-912d-d34fb0ec614a",
   "metadata": {},
   "outputs": [
    {
     "name": "stdout",
     "output_type": "stream",
     "text": [
      "Rahul\n",
      "886012\n",
      "My name is Rahul\n",
      "IdNumber: 886012\n",
      "Post: Intern\n"
     ]
    }
   ],
   "source": [
    "class Person(object):\n",
    "\n",
    "\t\n",
    "\tdef __init__(self, name, idnumber):\n",
    "\t\tself.name = name\n",
    "\t\tself.idnumber = idnumber\n",
    "\n",
    "\tdef display(self):\n",
    "\t\tprint(self.name)\n",
    "\t\tprint(self.idnumber)\n",
    "\t\t\n",
    "\tdef details(self):\n",
    "\t\tprint(\"My name is {}\".format(self.name))\n",
    "\t\tprint(\"IdNumber: {}\".format(self.idnumber))\n",
    "\t\n",
    "\n",
    "class Employee(Person):\n",
    "\tdef __init__(self, name, idnumber, salary, post):\n",
    "\t\tself.salary = salary\n",
    "\t\tself.post = post\n",
    "\n",
    "\t\t\n",
    "\t\tPerson.__init__(self, name, idnumber)\n",
    "\t\t\n",
    "\tdef details(self):\n",
    "\t\tprint(\"My name is {}\".format(self.name))\n",
    "\t\tprint(\"IdNumber: {}\".format(self.idnumber))\n",
    "\t\tprint(\"Post: {}\".format(self.post))\n",
    "\n",
    "\n",
    "\n",
    "a = Employee('Rahul', 886012, 200000, \"Intern\")\n",
    "\n",
    "\n",
    "a.display()\n",
    "a.details()\n"
   ]
  },
  {
   "cell_type": "markdown",
   "id": "f60ff9fe-37f9-499a-be09-07b045551b52",
   "metadata": {},
   "source": [
    "### Data Abstraction \n",
    "It hides the unnecessary code details from the user. Also,  when we do not want to give out sensitive parts of our code implementation and this is where data abstraction came."
   ]
  },
  {
   "cell_type": "markdown",
   "id": "be0cfc46-7057-4e8e-8751-bb97288bdd46",
   "metadata": {},
   "source": [
    "### Q3. Explain why the __init__() function is used. Give a suitable example. \n",
    "\n",
    "Ans:\n",
    "\n",
    "\n",
    "### __init__method\n",
    "\n",
    "The __init__ method is similar to constructors in C++ and Java. Constructors are used to initialize the object’s state. Like methods, a constructor also contains a collection of statements\n",
    "\n"
   ]
  },
  {
   "cell_type": "code",
   "execution_count": 32,
   "id": "2f887b9c-ca0a-4d51-ac4f-cb607f547d24",
   "metadata": {},
   "outputs": [
    {
     "name": "stdout",
     "output_type": "stream",
     "text": [
      "Hello, my name is Ashish\n",
      "Hello, my name is Arpit\n",
      "Hello, my name is Manish\n"
     ]
    }
   ],
   "source": [
    "class Person:\n",
    " \n",
    "    # init method or constructor\n",
    "    def __init__(self, name):\n",
    "        self.name = name\n",
    " \n",
    "    # Sample Method\n",
    "    def say_hi(self):\n",
    "        print('Hello, my name is', self.name)\n",
    " \n",
    " \n",
    "# Creating different objects\n",
    "p1 = Person('Ashish')\n",
    "p2 = Person('Arpit')\n",
    "p3 = Person('Manish')\n",
    " \n",
    "p1.say_hi()\n",
    "p2.say_hi()\n",
    "p3.say_hi()"
   ]
  },
  {
   "cell_type": "markdown",
   "id": "f49f4ce5-24fe-4ba0-afaf-fd43781024ef",
   "metadata": {},
   "source": [
    "### Q4. Why self is used in OOPs? \n",
    "\n",
    "Ans:\n",
    "\n",
    "\n",
    " ### self method\n",
    "The self parameter is a reference to the current instance of the class, and is used to access variables that belongs to the class.\n",
    "\n",
    "It does not have to be named self , you can call it whatever you like, but it has to be the first parameter of any function in the class:\n",
    "\n"
   ]
  },
  {
   "cell_type": "code",
   "execution_count": 31,
   "id": "482f5537-8b97-44f0-9bc9-075620194c5f",
   "metadata": {},
   "outputs": [
    {
     "name": "stdout",
     "output_type": "stream",
     "text": [
      "Area is: 60\n"
     ]
    }
   ],
   "source": [
    "class Rectangle (): \n",
    "    def __init__(self,x = 0,y = 0): \n",
    "        self.x = x \n",
    "        self.y = y \n",
    "    def area (self): \n",
    "        \"\"\"Find area of rectangle\"\"\" \n",
    "        return (self.x * self.y) \n",
    "rec1=Rectangle(6,10) \n",
    "print (\"Area is:\", rec1.area()) "
   ]
  },
  {
   "cell_type": "code",
   "execution_count": null,
   "id": "429586dc-d9da-4c4a-97e6-7b77c658f20a",
   "metadata": {},
   "outputs": [],
   "source": []
  },
  {
   "cell_type": "markdown",
   "id": "474740d3-b10b-40cd-8b2f-09e96cb07936",
   "metadata": {},
   "source": [
    "### Q5. What is inheritance? Give an example for each type of inheritance. \n",
    "\n",
    "Ans:\n",
    "\n",
    " ### Inheritance\n",
    " \n",
    " Inheritance is an important aspect of the object-oriented paradigm. Inheritance provides code reusability to the program because we can use an existing class to create a new class instead of creating it from scratch.\n",
    "\n",
    "In inheritance, the child class acquires the properties and can access all the data members and functions defined in the parent class. A child class can also provide its specific implementation to the functions of the parent class. In this section of the tutorial, we will discuss inheritance in detail.\n",
    "\n",
    "### single inheritance\n",
    "\n",
    "***Syntax***\n",
    "\n",
    "class derived-class(base class):  \n",
    "    <class-suite>   \n",
    "    \n",
    "***Syntax***\n",
    "    \n",
    "class derive-class(<base class 1>, <base class 2>, ..... <base class n>):  \n",
    "    <class - suite>   "
   ]
  },
  {
   "cell_type": "code",
   "execution_count": 33,
   "id": "2bab8cd3-d7a4-4c15-a3cd-9b97d646a664",
   "metadata": {},
   "outputs": [
    {
     "name": "stdout",
     "output_type": "stream",
     "text": [
      "dog barking\n",
      "Animal Speaking\n"
     ]
    }
   ],
   "source": [
    "class Animal:  \n",
    "    def speak(self):  \n",
    "        print(\"Animal Speaking\")  \n",
    "class Dog(Animal):  \n",
    "    def bark(self):  \n",
    "        print(\"dog barking\")  \n",
    "d = Dog()  \n",
    "d.bark()  \n",
    "d.speak()  "
   ]
  },
  {
   "cell_type": "markdown",
   "id": "f69f0972-9fd8-4ed6-a9af-7e5647b3128a",
   "metadata": {},
   "source": [
    "### Multi-Level inheritance\n",
    "Multi-Level inheritance is possible in python like other object-oriented languages. Multi-level inheritance is archived when a derived class inherits another derived class. There is no limit on the number of levels up to which, the multi-level inheritance is archived in python.\n",
    "\n",
    "***Syntax***\n",
    "\n",
    "class class1:  \n",
    "    <class-suite>   \n",
    "class class2(class1):  \n",
    "    <class suite>  \n",
    "class class3(class2):  \n",
    "    <class suite>  \n",
    ".  \n",
    ".  \n"
   ]
  },
  {
   "cell_type": "code",
   "execution_count": 34,
   "id": "5165ad46-2284-4dcb-b9fa-c67061162d77",
   "metadata": {},
   "outputs": [
    {
     "name": "stdout",
     "output_type": "stream",
     "text": [
      "dog barking\n",
      "Animal Speaking\n",
      "Eating bread...\n"
     ]
    }
   ],
   "source": [
    "class Animal:  \n",
    "    def speak(self):  \n",
    "        print(\"Animal Speaking\")  \n",
    "#The child class Dog inherits the base class Animal  \n",
    "class Dog(Animal):  \n",
    "    def bark(self):  \n",
    "        print(\"dog barking\")  \n",
    "#The child class Dogchild inherits another child class Dog  \n",
    "class DogChild(Dog):  \n",
    "    def eat(self):  \n",
    "        print(\"Eating bread...\")  \n",
    "d = DogChild()  \n",
    "d.bark()  \n",
    "d.speak()  \n",
    "d.eat()  "
   ]
  },
  {
   "cell_type": "markdown",
   "id": "5e91e88c-a7e3-414d-9188-b2803cd9aaab",
   "metadata": {},
   "source": [
    "### Python Multiple inheritance\n",
    "Python provides us the flexibility to inherit multiple base classes in the child class.\n",
    "\n",
    "***Syntax***\n",
    "\n",
    "class Base1:  \n",
    "    <class-suite>  \n",
    "  \n",
    "class Base2:  \n",
    "    <class-suite>  \n",
    ".  \n",
    ".  \n",
    ".  \n",
    "class BaseN:  \n",
    "    <class-suite>  \n",
    "  \n",
    "class Derived(Base1, Base2, ...... BaseN):  \n",
    "    <class-suite>  "
   ]
  },
  {
   "cell_type": "code",
   "execution_count": 35,
   "id": "48df96e5-fadf-4b56-93a9-54ee5d14fc42",
   "metadata": {},
   "outputs": [
    {
     "name": "stdout",
     "output_type": "stream",
     "text": [
      "30\n",
      "200\n",
      "0.5\n"
     ]
    }
   ],
   "source": [
    "class Calculation1:  \n",
    "    def Summation(self,a,b):  \n",
    "        return a+b;  \n",
    "class Calculation2:  \n",
    "    def Multiplication(self,a,b):  \n",
    "        return a*b;  \n",
    "class Derived(Calculation1,Calculation2):  \n",
    "    def Divide(self,a,b):  \n",
    "        return a/b;  \n",
    "d = Derived()  \n",
    "print(d.Summation(10,20))  \n",
    "print(d.Multiplication(10,20))  \n",
    "print(d.Divide(10,20))  "
   ]
  },
  {
   "cell_type": "code",
   "execution_count": null,
   "id": "82bce2e6-3452-48d8-924a-674d818129f0",
   "metadata": {},
   "outputs": [],
   "source": []
  }
 ],
 "metadata": {
  "kernelspec": {
   "display_name": "Python 3 (ipykernel)",
   "language": "python",
   "name": "python3"
  },
  "language_info": {
   "codemirror_mode": {
    "name": "ipython",
    "version": 3
   },
   "file_extension": ".py",
   "mimetype": "text/x-python",
   "name": "python",
   "nbconvert_exporter": "python",
   "pygments_lexer": "ipython3",
   "version": "3.10.8"
  }
 },
 "nbformat": 4,
 "nbformat_minor": 5
}
