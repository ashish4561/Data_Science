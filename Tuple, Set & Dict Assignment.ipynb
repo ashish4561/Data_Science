{
 "cells": [
  {
   "cell_type": "markdown",
   "id": "ef299c49-1f06-469a-a2dd-a469e8d9d069",
   "metadata": {},
   "source": [
    "#### Data Science Master's \n",
    "##### Assignment-3\n",
    "###### Tuple, Set & Dict \n",
    "\n",
    "\n"
   ]
  },
  {
   "cell_type": "markdown",
   "id": "bf59c019-9f5c-4fde-865e-868d2d6d3cb7",
   "metadata": {},
   "source": [
    "### 1. What are the characteristics of the tuples? is tuple immutable?\n",
    "Ans:"
   ]
  },
  {
   "cell_type": "markdown",
   "id": "3a560741-4d60-464d-b9ae-e41b12b61faa",
   "metadata": {},
   "source": [
    "The important characteristics of Python lists are as follows:\n",
    "1. Lists are ordered.\n",
    "2. Lists can contain any arbitrary objects.\n",
    "3. List elements can be accessed by index.\n",
    "4. Lists can be nested to arbitrary depth.\n",
    "5. Lists are mutable.\n",
    "6. Lists are dynamic.\n",
    "\n",
    "Yes, tuple is immutable."
   ]
  },
  {
   "cell_type": "markdown",
   "id": "a0b5f9a3-1e99-4646-ba1a-2f001e846d2a",
   "metadata": {},
   "source": [
    "### 2. What are the two tuple methods in python? Give an example of each method. Give a reason why tuples have only two in-built methods as compared to Lists."
   ]
  },
  {
   "cell_type": "markdown",
   "id": "473b92d6-8b08-4d1c-9e87-3f15461a39ad",
   "metadata": {},
   "source": [
    "Ans: In Python, tuples are immutables. Meaning, you cannot change items of a tuple once it is assigned. There are only two tuple methods count() and index() that a tuple object can call.\n",
    "\n",
    "1. The count() method returns the number of times the specified element appears in the tuple\n",
    "  \n",
    "Example:\n"
   ]
  },
  {
   "cell_type": "code",
   "execution_count": 3,
   "id": "f4f2712b-aafc-4a45-8110-04b248a86107",
   "metadata": {},
   "outputs": [
    {
     "name": "stdout",
     "output_type": "stream",
     "text": [
      "2\n"
     ]
    }
   ],
   "source": [
    "a=(1,8,9,6,2,7,6,3,7,6,6,4,8)\n",
    "print(a.count(7))\n"
   ]
  },
  {
   "cell_type": "markdown",
   "id": "173a9117-554b-489b-8938-f4cab3b5f26c",
   "metadata": {},
   "source": [
    "2. The index() method returns the index of the specified element in the tuple.\n",
    "\n",
    "Example:\n"
   ]
  },
  {
   "cell_type": "code",
   "execution_count": 4,
   "id": "2e1e649b-504b-4bb0-823e-9b454251ba54",
   "metadata": {},
   "outputs": [
    {
     "name": "stdout",
     "output_type": "stream",
     "text": [
      "3\n"
     ]
    }
   ],
   "source": [
    "a=(1,8,9,6,2,7,6,3,7,6,6,4,8)\n",
    "print(a.index(6))\n"
   ]
  },
  {
   "cell_type": "markdown",
   "id": "9faec402-132d-414c-a57a-fddd33cb0ffb",
   "metadata": {},
   "source": [
    "### 3.  Which collection data types in python do not allow duplicate items? Write a code using a set to remove  duplicates from the given list. \n",
    "##### List = [1, 1, 1, 2, 1, 3, 1, 4, 2, 1, 2, 2, 2, 3, 2, 4, 3, 1, 3, 2, 3, 3, 3, 4, 4, 1, 4, 2, 4, 3, 4, 4] \n",
    "Ans:"
   ]
  },
  {
   "cell_type": "markdown",
   "id": "5ffe137d-6ec6-47ac-a71e-0b7ca20a70fa",
   "metadata": {},
   "source": [
    "In python set do not allow duplicate items."
   ]
  },
  {
   "cell_type": "code",
   "execution_count": 5,
   "id": "10a1a8cb-3a59-48b1-85f7-69fa6b32b1d8",
   "metadata": {},
   "outputs": [
    {
     "name": "stdout",
     "output_type": "stream",
     "text": [
      "{1, 2, 3, 4}\n"
     ]
    }
   ],
   "source": [
    "list = [1, 1, 1, 2, 1, 3, 1, 4, 2, 1, 2, 2, 2, 3, 2, 4, 3, 1, 3, 2, 3, 3, 3, 4, 4, 1, 4, 2, 4, 3, 4, 4]\n",
    "print(set(list))"
   ]
  },
  {
   "cell_type": "markdown",
   "id": "c180d2d3-56db-4f17-be5e-36295d2da1eb",
   "metadata": {},
   "source": [
    "### 4. Explain the difference between the union() and update() methods for a set. Give an example of each method."
   ]
  },
  {
   "cell_type": "markdown",
   "id": "1d438cee-72a8-4cfd-844d-87854a3dfea3",
   "metadata": {},
   "source": [
    "Ans. \n",
    "1. union()\n",
    "\n",
    "The union() method returns a set that contains all items from the original set, and all items from the specified set(s). You can specify as many sets you want, separated by commas. It does not have to be a set, it can be any iterable object."
   ]
  },
  {
   "cell_type": "code",
   "execution_count": 6,
   "id": "10cb7c0e-9636-48d7-8087-c3f8e868d048",
   "metadata": {},
   "outputs": [
    {
     "name": "stdout",
     "output_type": "stream",
     "text": [
      "set1 U set2 :  {2, 4, 5, 6, 7, 8}\n",
      "set1 U set2 U set3 : {2, 4, 5, 6, 7, 8, 9, 10}\n"
     ]
    }
   ],
   "source": [
    "set1 = {2, 4, 5, 6}\n",
    "set2 = {4, 6, 7, 8}\n",
    "set3 = {7, 8, 9, 10}\n",
    " \n",
    "print(\"set1 U set2 : \", set1 | set2)\n",
    " \n",
    "print(\"set1 U set2 U set3 :\", set1 |set2 | set3)"
   ]
  },
  {
   "cell_type": "markdown",
   "id": "7ada0de4-dafa-49a1-b701-247417a1a9d2",
   "metadata": {},
   "source": [
    "2. update() \n",
    "\n",
    "The update() method updates the current set, by adding items from another set (or any other iterable).\n",
    "If an item is present in both sets, only one appearance of this item will be present in the updated set.\n",
    "Syntax:\n",
    "set.update(set)\n",
    "\n",
    "Example:\n"
   ]
  },
  {
   "cell_type": "markdown",
   "id": "547fd351-ca72-410f-9cd1-2014be74b29f",
   "metadata": {},
   "source": [
    "2. update() \n",
    "\n",
    "The update() method updates the current set, by adding items from another set (or any other iterable).\n",
    "If an item is present in both sets, only one appearance of this item will be present in the updated set.\n",
    "Syntax:\n",
    "set.update(set)\n",
    "\n",
    "Example:\n"
   ]
  },
  {
   "cell_type": "code",
   "execution_count": 9,
   "id": "64324245-4904-4948-8840-a4cabae22719",
   "metadata": {},
   "outputs": [
    {
     "name": "stdout",
     "output_type": "stream",
     "text": [
      "{'apple', 'grapes', 'papaya', 'banana', 'cherry'}\n"
     ]
    }
   ],
   "source": [
    "x = {\"apple\", \"banana\", \"cherry\"}\n",
    "y = {\"grapes\", \"papaya\", \"apple\"}\n",
    "x.update(y)\n",
    "print(x)"
   ]
  },
  {
   "cell_type": "markdown",
   "id": "c67e3e5d-3871-4335-8194-fad8daa5146a",
   "metadata": {},
   "source": [
    "### 5. What is a dictionary? Give an example. Also, state whether a dictionary is ordered or unordered.\n",
    "Ans:"
   ]
  },
  {
   "cell_type": "markdown",
   "id": "d606de8b-b8c3-4b38-89eb-cb8b73c3ff16",
   "metadata": {},
   "source": [
    "#### Dictionaries are used to store data values in key:value pairs.A dictionary is a collection which is ordered, changeable and do not allow duplicates.\n",
    "\n",
    "Example:\n"
   ]
  },
  {
   "cell_type": "code",
   "execution_count": 11,
   "id": "f923b885-907d-42fd-a4b6-566c39bfdafb",
   "metadata": {},
   "outputs": [
    {
     "name": "stdout",
     "output_type": "stream",
     "text": [
      "{'name': 'sharad', 'date_of_joining': 'sep 2022', 'profile': 'GET'}\n"
     ]
    }
   ],
   "source": [
    "employ = {\"name\": \"sharad\", \"date_of_joining\": \"sep 2022\", \"profile\": \"GET\"}\n",
    "print(employ)"
   ]
  },
  {
   "cell_type": "markdown",
   "id": "39955a73-2e2c-4af1-98df-32d41791b87f",
   "metadata": {},
   "source": [
    "### 6. Can we create a nested dictionary? If so, please give an example by creating a simple one-level nested dictionary.\n",
    "Ans: Yes, we can create nested dictionary."
   ]
  },
  {
   "cell_type": "code",
   "execution_count": 12,
   "id": "26e51532-762e-4c77-9516-bc0244677c18",
   "metadata": {},
   "outputs": [
    {
     "name": "stdout",
     "output_type": "stream",
     "text": [
      "{1: {'name': 'Ashish', 'age': '23', 'sex': 'Male'}, 2: {'name': 'Kajal', 'age': '22', 'sex': 'Female'}}\n"
     ]
    }
   ],
   "source": [
    "people = {1: {'name': 'Ashish', 'age': '23', 'sex': 'Male'},\n",
    "          2: {'name': 'Kajal', 'age': '22', 'sex': 'Female'}}\n",
    "\n",
    "print(people)"
   ]
  },
  {
   "cell_type": "markdown",
   "id": "e71019cc-cee5-4222-9045-14955339fb3c",
   "metadata": {},
   "source": [
    "### 7. Using setdefault() method, create key named topics in the given dictionary and also add the value of the key as this list ['Python', 'Machine Learning’, 'Deep Learning']  \n",
    "\n",
    "### dict1 = {'language' : 'Python', 'course': 'Data Science Masters'}"
   ]
  },
  {
   "cell_type": "code",
   "execution_count": 18,
   "id": "f1ac0502-e95f-45d9-9c95-76aeb4b30da1",
   "metadata": {},
   "outputs": [
    {
     "name": "stdout",
     "output_type": "stream",
     "text": [
      "{'language': 'Python', 'course': 'Data Science Masters', 'topic': ['Python', 'Machine Learning', 'Deep Learning']}\n"
     ]
    }
   ],
   "source": [
    "dict1 = {\"language\" : \"Python\", \"course\": \"Data Science Masters\"}\n",
    "dict1.setdefault(\"topic\", [\"Python\", \"Machine Learning\", \"Deep Learning\"])\n",
    "print(dict1)"
   ]
  },
  {
   "cell_type": "markdown",
   "id": "f0b5ddc8-3713-4103-97f0-66c428fb1ea0",
   "metadata": {},
   "source": [
    "### 8. What are the three view objects in dictionaries? Use the three in-built methods in python to display these three view objects for the given dictionary.\n",
    "\n",
    "### dict1 = {'Sport': 'Cricket' , 'Teams': ['India', 'Australia', 'England', 'South Africa', 'Sri Lanka', 'New Zealand']}"
   ]
  },
  {
   "cell_type": "code",
   "execution_count": 19,
   "id": "380fd50c-3b3d-45f0-bad9-e17f62d0ebc1",
   "metadata": {},
   "outputs": [
    {
     "name": "stdout",
     "output_type": "stream",
     "text": [
      "dict_keys(['Sport', 'Teams'])\n",
      "dict_values(['Cricket', ['India', 'Australia', 'England', 'South Africa', 'Sri Lanka', 'New Zealand']])\n",
      "dict_items([('Sport', 'Cricket'), ('Teams', ['India', 'Australia', 'England', 'South Africa', 'Sri Lanka', 'New Zealand'])])\n"
     ]
    }
   ],
   "source": [
    "dict1 = {'Sport': 'Cricket' , 'Teams': ['India', 'Australia', 'England', 'South Africa', 'Sri Lanka', 'New Zealand']}\n",
    "print(dict1.keys())\n",
    "print(dict1.values())\n",
    "print(dict1.items())"
   ]
  },
  {
   "cell_type": "code",
   "execution_count": null,
   "id": "36af70f7-26ce-484b-be14-82c15a36be2f",
   "metadata": {},
   "outputs": [],
   "source": []
  }
 ],
 "metadata": {
  "kernelspec": {
   "display_name": "Python 3 (ipykernel)",
   "language": "python",
   "name": "python3"
  },
  "language_info": {
   "codemirror_mode": {
    "name": "ipython",
    "version": 3
   },
   "file_extension": ".py",
   "mimetype": "text/x-python",
   "name": "python",
   "nbconvert_exporter": "python",
   "pygments_lexer": "ipython3",
   "version": "3.10.8"
  }
 },
 "nbformat": 4,
 "nbformat_minor": 5
}
